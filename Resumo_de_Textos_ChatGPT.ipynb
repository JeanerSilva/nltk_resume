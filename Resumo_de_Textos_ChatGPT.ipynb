{
 "cells": [
  {
   "cell_type": "code",
   "execution_count": 1,
   "metadata": {},
   "outputs": [
    {
     "name": "stderr",
     "output_type": "stream",
     "text": [
      "[nltk_data] Downloading package stopwords to dados\\nltk_data...\n",
      "[nltk_data]   Package stopwords is already up-to-date!\n"
     ]
    },
    {
     "data": {
      "text/plain": [
       "True"
      ]
     },
     "execution_count": 1,
     "metadata": {},
     "output_type": "execute_result"
    }
   ],
   "source": [
    "import nltk\n",
    "nltk.download('stopwords', download_dir=r'dados\\nltk_data')"
   ]
  },
  {
   "cell_type": "code",
   "execution_count": null,
   "metadata": {},
   "outputs": [],
   "source": [
    "'''Arquivo de pré-processamento de dados.'''\n",
    "import pandas as pd\n",
    "import re\n",
    "import nltk\n",
    "from nltk.corpus import stopwords \n",
    "from nltk.stem import PorterStemmer, SnowballStemmer\n",
    "from langdetect import detect\n",
    "import iso639\n",
    "import unicodedata\n",
    "\n",
    "nltk.data.path.append(r\".\\dados\\nltk_data\")\n",
    "\n",
    "def process_string(string):\n",
    "    \"\"\"\n",
    "    Função que realiza pré-processamento em um texto.\n",
    "\n",
    "    Args:\n",
    "        string (str): O texto a ser pré-processado.\n",
    "        idioma (str, optional): O idioma da stopword list e do stemmer. Padrão é 'portuguese'.\n",
    "\n",
    "    Returns:\n",
    "        str: O texto pré-processado.\n",
    "    \"\"\"\n",
    "    # Converte para minúsculas\n",
    "    string = string.lower()\n",
    "\n",
    "    # Prepara o regex para remover pontuações\n",
    "    punct_regex = re.compile('[^\\w\\s]')\n",
    "\n",
    "    # Remove pontuações\n",
    "    string = re.sub(punct_regex, '', string)\n",
    "\n",
    "    #Remove acentos\n",
    "    string = unicodedata.normalize('NFKD', string).encode('ASCII', 'ignore').decode('ASCII')\n",
    "\n",
    "    #Prepara regex para remover números\n",
    "    num_regex = re.compile('\\d+')\n",
    "\n",
    "    # Remove números\n",
    "    string = re.sub(num_regex, '', string)\n",
    "\n",
    "    # Detecta o idioma do texto\n",
    "    idioma = (iso639.to_name(detect(string))).lower()\n",
    "\n",
    "    print('Idioma detectado:', idioma)\n",
    "\n",
    "    # Define as stopwords de acordo com o idioma\n",
    "    # Portugues\n",
    "    if idioma == 'portuguese':\n",
    "        stop_words = set(stopwords.words('portuguese'))\n",
    "        stemmer = PorterStemmer()\n",
    "    # Inglês\n",
    "    elif idioma == 'english':\n",
    "        stop_words = set(stopwords.words('english'))\n",
    "        stemmer = SnowballStemmer('english')\n",
    "    # Outros idiomas\n",
    "    else:\n",
    "        try:\n",
    "            stop_words = set(stopwords.words(idioma))\n",
    "            stemmer = SnowballStemmer(idioma)\n",
    "        except:\n",
    "            stop_words = set(stopwords.words('portuguese'))\n",
    "            stemmer = PorterStemmer()\n",
    "            # raise ValueError(f\"Identificado idioma:{idioma}. Idioma deve ser 'portuguese' ou 'english'.\")\n",
    "    \n",
    "    # Remove stopwords    \n",
    "    string = ' '.join([word for word in string.split() if word not in stop_words])\n",
    "\n",
    "    # Aplica stemming\n",
    "    string = ' '.join([stemmer.stem(word) for word in string.split()])\n",
    "\n",
    "    #Remove palavras com menos de 3 caracteres\n",
    "    # string = ' '.join([word for word in string.split() if len(word) > 3])\n",
    "    string = [word for word in string.split() if len(word) > 3]\n",
    "    \n",
    "    return string"
   ]
  },
  {
   "cell_type": "code",
   "execution_count": 3,
   "metadata": {},
   "outputs": [
    {
     "name": "stdout",
     "output_type": "stream",
     "text": [
      "Numero de paginas:  84\n",
      "Extraindo Página:  0\n",
      "Idioma detectado: portuguese\n",
      "Extraindo Página:  1\n",
      "Idioma detectado: portuguese\n",
      "Extraindo Página:  2\n",
      "Idioma detectado: portuguese\n",
      "Extraindo Página:  3\n",
      "Idioma detectado: portuguese\n",
      "Extraindo Página:  4\n",
      "Idioma detectado: portuguese\n",
      "Numero de páginas extraidas:  5\n",
      "Tempo de execução da função extrair_texto_pdf: 0.36s\n"
     ]
    }
   ],
   "source": [
    "#Carregar paginas do pdf e salvar as strings\n",
    "import PyPDF2\n",
    "\n",
    "def extrair_texto_pdf(nome_arquivo, num_max_tokens=1000):\n",
    "    with open(nome_arquivo, 'rb') as arquivo:\n",
    "        leitor = PyPDF2.PdfReader(arquivo)\n",
    "        numero_paginas = len(leitor.pages)\n",
    "        print('Numero de paginas: ', numero_paginas)\n",
    "        texto = {}\n",
    "        for pagina in range(numero_paginas):\n",
    "            print('Extraindo Página: ', pagina)\n",
    "            pagina_atual = leitor.pages[pagina]\n",
    "            texto_extraido = pagina_atual.extract_text()\n",
    "            texto_extraido = process_string(texto_extraido)\n",
    "            tokens = [' '.join(texto_extraido[i:i+num_max_tokens]) for i in range(0, len(texto_extraido), num_max_tokens-10)]\n",
    "            texto[pagina] = tokens\n",
    "        print('Numero de páginas extraidas: ', len(texto))\n",
    "        return texto\n",
    "\n",
    "nome_arquivo = 'iracema.pdf' # Substitua pelo nome do seu arquivo PDF\n",
    "texto_extraido = extrair_texto_pdf(nome_arquivo)\n",
    "\n"
   ]
  },
  {
   "cell_type": "code",
   "execution_count": 4,
   "metadata": {},
   "outputs": [],
   "source": [
    "from tenacity import retry, stop_after_attempt\n",
    "import openai\n",
    "\n",
    "openai.api_key = \"SUA API AQUI\"\n",
    "@retry(stop=stop_after_attempt(4))\n",
    "def get_resume(text, *kwargs):\n",
    "   \n",
    "    prompt = f\"Resuma o texto abaixo de forma bem didática e apenas com os principais pontos para entendimento: \\n{text}\"\n",
    "    completion = openai.ChatCompletion.create(\n",
    "    model=\"gpt-3.5-turbo\",\n",
    "    max_tokens=350,\n",
    "    temperature=0.5,\n",
    "    messages=[\n",
    "        {\"role\": \"user\", \"content\": prompt}\n",
    "    ]\n",
    "    )\n",
    "    return completion.choices[0].message['content']"
   ]
  },
  {
   "cell_type": "code",
   "execution_count": null,
   "metadata": {},
   "outputs": [],
   "source": [
    "start = time.time()\n",
    "r = []\n",
    "for pagina in texto_extraido:\n",
    "    print('Resumindo página: ', pagina)\n",
    "    for token in texto_extraido[pagina]:\n",
    "        r.append(get_resume(token))\n",
    "end = time.time()\n",
    "print(f\"Tempo de execução da função get_resume: {end - start:.2f}s\")"
   ]
  },
  {
   "cell_type": "code",
   "execution_count": 6,
   "metadata": {},
   "outputs": [
    {
     "data": {
      "text/plain": [
       "['O texto fala sobre o livro \"Iracema\", escrito por José de Alencar. O livro retrata a história de um filho ausente que retorna à sua terra natal, onde encontra um lugar pitoresco chamado Várzea Doce. O autor descreve a natureza e a influência poderosa do ambiente tropical, comparando-a a um raio de fogo sobre a areia. O livro também menciona a brincadeira de crianças e a figura de uma boiada. Em seguida, o texto descreve a esposa do protagonista preparando um creme de buriti para refrescar o marido, que está descansando em uma rede. O livro é mencionado como uma distração para o protagonista, que talvez esteja ocupado com assuntos graves. O autor ressalta a importância das memórias da infância e descreve a inspiração patriótica do livro. O texto termina mencionando a imagem de uma mãe sorrindo para seu filho enquanto lê o livro em uma varanda com sombra.',\n",
       " 'O texto fala sobre a hospitalidade e acolhimento dos cearenses, destacando a importância de receber bem os estrangeiros. Também menciona a história e a glória do povo cearense, e faz uma introdução ao livro que será apresentado. O autor afirma que reservará as informações mais importantes para o final da obra, e menciona a etiqueta e o respeito ao público. O texto foi escrito por José de Alencar.',\n",
       " 'O texto fala sobre o mar e a terra natal de um guerreiro jovem. Ele descreve a natureza e a vida na praia, incluindo coqueiros, jangadas e barcos. O guerreiro está encostado em um mastro, olhando para a terra enquanto uma lágrima escorre de seu olho. Ele lembra de sua infância e da história de sua terra. O texto também descreve a paisagem e as condições do mar, incluindo uma tempestade. No final, o barco do guerreiro navega para uma enseada amiga.',\n",
       " 'O texto descreve um barco que está navegando no mar enquanto o vento sopra. A areia branca é levantada pelo vento e a pessoa que está no barco sente saudades da terra.',\n",
       " 'O texto descreve a personagem Iracema, uma jovem virgem da tribo Tabajara. Ela é descrita como uma guerreira ágil e grácil, com cabelos negros e lábios cor de favo de jati. Iracema possui um sorriso doce e exala o perfume da baunilha. Ela corre pelo sertão e pela mata, vestindo apenas folhas e se banhando em águas claras. Iracema é habilidosa com arco e flecha, e tem uma amiga grácil que a acompanha. Ela também tece renda com agulhas de jucara e utiliza tintas naturais para colorir o algodão. Um guerreiro desconhecido se encanta por Iracema e seu corpo ágil, olhar rápido e gestos rápidos.']"
      ]
     },
     "execution_count": 6,
     "metadata": {},
     "output_type": "execute_result"
    }
   ],
   "source": [
    "r"
   ]
  },
  {
   "cell_type": "code",
   "execution_count": null,
   "metadata": {},
   "outputs": [
    {
     "data": {
      "text/plain": [
       "''"
      ]
     },
     "execution_count": 50,
     "metadata": {},
     "output_type": "execute_result"
    }
   ],
   "source": [
    "from fpdf import FPDF\n",
    "\n",
    "pdf = FPDF()\n",
    "pdf.add_page()\n",
    "pdf.set_font(\"Arial\", size=12)\n",
    "\n",
    "for pagina in r:\n",
    "    pdf.multi_cell(0, 10, txt=pagina, align=\"L\")\n",
    "    pdf.ln()  # Adiciona uma nova linha após cada chamada ao MultiCell\n",
    "\n",
    "pdf.output(\"resumo.pdf\")\n"
   ]
  }
 ],
 "metadata": {
  "kernelspec": {
   "display_name": "ven",
   "language": "python",
   "name": "python3"
  },
  "language_info": {
   "codemirror_mode": {
    "name": "ipython",
    "version": 3
   },
   "file_extension": ".py",
   "mimetype": "text/x-python",
   "name": "python",
   "nbconvert_exporter": "python",
   "pygments_lexer": "ipython3",
   "version": "3.11.4"
  },
  "orig_nbformat": 4
 },
 "nbformat": 4,
 "nbformat_minor": 2
}
